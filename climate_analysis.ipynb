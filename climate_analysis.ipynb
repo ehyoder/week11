{
 "cells": [
  {
   "cell_type": "markdown",
   "metadata": {},
   "source": [
    "\n",
    "\n",
    "\n",
    "\n",
    "\n",
    "### Temperature Analysis\n",
    "\n",
    "* Write a function called `calc_temps` that will accept a start date and end date in the format `%Y-%m-%d` and return the minimum, average, and maximum temperatures for that range of dates.\n",
    "\n",
    "* Use the `calc_temps` function to calculate the min, avg, and max temperatures for your trip using the matching dates from the previous year (i.e. use \"2017-01-01\" if your trip start date was \"2018-01-01\")\n",
    "\n",
    "* Plot the min, avg, and max temperature from your previous query as a bar chart.\n",
    "\n",
    "  * Use the average temperature as the bar height.\n",
    "\n",
    "  * Use the peak-to-peak (tmax-tmin) value as the y error bar (yerr).\n",
    "\n",
    "<center><img src='images/temp_avg.png' height=\"400px\"/></center>\n",
    "\n",
    "\n",
    "### Optional Recommended Analysis\n",
    "\n",
    "* The following are optional challenge queries. These are highly recommended to attempt, but not required for the homework.\n",
    "\n",
    "  * Calcualte the rainfall per weather station using the previous year's matching dates.\n",
    "\n",
    "* Calculate the daily normals. Normals are the averages for min, avg, and max temperatures.\n",
    "\n",
    "  * Create a function called `daily_normals` that will calculate the daily normals for a specific date. This date string will be in the format `%m-%d`. Be sure to use all historic tobs that match that date string.\n",
    "\n",
    "  * Create a list of dates for your trip in the format `%m-%d`. Use the `daily_normals` function to calculate the normals for each date string and append the results to a list.\n",
    "\n",
    "  * Load the list of daily normals into a Pandas DataFrame and set the index equal to the date.\n",
    "\n",
    "  * Use Pandas to plot an area plot (`stacked=False`) for the daily normals.\n"
   ]
  },
  {
   "cell_type": "code",
   "execution_count": null,
   "metadata": {
    "collapsed": true
   },
   "outputs": [],
   "source": [
    "import pandas as pd\n",
    "import matplotlib as plt\n",
    "import numpy as np\n",
    "import sqlalchemy \n",
    "from sqlalchemy.ext.automap import automap_base\n",
    "from sqlalchemy.orm import Session\n",
    "from sqlalchemy import create_engine, func\n",
    "import datetime as dt\n"
   ]
  },
  {
   "cell_type": "code",
   "execution_count": null,
   "metadata": {
    "collapsed": true
   },
   "outputs": [],
   "source": [
    "# Choose a start date and end date for trip (3-15 days total)"
   ]
  },
  {
   "cell_type": "code",
   "execution_count": null,
   "metadata": {
    "collapsed": true
   },
   "outputs": [],
   "source": [
    "# Use SQLAlchemy `create_engine` to connect to sqlite database\n",
    "engine = create_engine(\"sqlite:///hawaii.sqlite\")"
   ]
  },
  {
   "cell_type": "code",
   "execution_count": null,
   "metadata": {
    "collapsed": true
   },
   "outputs": [],
   "source": [
    "# Use SQLAlchemy `automap_base()` to reflect tables into classes \n",
    "Base = automap_base()\n",
    "Base.prepare(engine, reflect=True)\n",
    "\n",
    "# View classes\n",
    "Base.classes.keys()\n",
    "\n",
    "# Save a reference to those classes called `Station` and `Measurement`\n",
    "Measurement = Base.classes.HImeasurements\n",
    "Station = Base.classes.HIstations"
   ]
  },
  {
   "cell_type": "code",
   "execution_count": null,
   "metadata": {
    "collapsed": true
   },
   "outputs": [],
   "source": [
    "# Create our session (link) from Python to the DB\n",
    "session = Session(engine)"
   ]
  },
  {
   "cell_type": "code",
   "execution_count": null,
   "metadata": {
    "collapsed": true
   },
   "outputs": [],
   "source": [
    "### Precipitation Analysis\n",
    "\n",
    "#Design a query to retrieve the last 12 months of precipitation data.\n",
    "\n",
    "#Select only the `date` and `prcp` values.\n",
    "\n",
    "#Load the query results into a Pandas DataFrame and set the index to the date column.\n",
    "\n",
    "#Plot the results using the DataFrame `plot` method.\n",
    "#Use Pandas to print the summary statistics for the precipitation data.\n"
   ]
  },
  {
   "cell_type": "code",
   "execution_count": null,
   "metadata": {
    "collapsed": true
   },
   "outputs": [],
   "source": [
    "### Station Analysis\n",
    "\n",
    "# Design a query to calculate the total number of stations.\n",
    "\n",
    "#Design a query to find the most active stations.\n",
    "\n",
    "#List the stations and observation counts in descending order\n",
    "\n",
    "#Which station has the highest number of observations?\n",
    "\n",
    "#Design a query to retrieve the last 12 months of temperature observation data (tobs).\n",
    "\n",
    "#Filter by the station with the highest number of observations.\n",
    "\n",
    "#Plot the results as a histogram with `bins=12`."
   ]
  }
 ],
 "metadata": {
  "kernelspec": {
   "display_name": "Python 3",
   "language": "python",
   "name": "python3"
  },
  "language_info": {
   "codemirror_mode": {
    "name": "ipython",
    "version": 3
   },
   "file_extension": ".py",
   "mimetype": "text/x-python",
   "name": "python",
   "nbconvert_exporter": "python",
   "pygments_lexer": "ipython3",
   "version": "3.6.3"
  }
 },
 "nbformat": 4,
 "nbformat_minor": 2
}
